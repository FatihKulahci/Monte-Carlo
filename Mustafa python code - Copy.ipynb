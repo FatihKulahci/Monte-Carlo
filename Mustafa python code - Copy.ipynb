#!/usr/bin/env python
# coding: utf-8

# # Mustafa Thesis code

# In[40]:


#https://www.statsilk.com/maps/download-free-shapefile-maps
#labelling cities
#https://stackoverflow.com/questions/38899190/geopandas-label-polygons
#for font modification
#https://stackoverflow.com/questions/3899980/how-to-change-the-font-size-on-a-matplotlib-plot
import statsmodels.api as sm
import matplotlib.pyplot as plt
from statsmodels.tsa.arima_model import ARIMA
from statsmodels.tsa.stattools import adfuller#for dickey fuller
from statsmodels.graphics.tsaplots import plot_acf,plot_pacf
from statsmodels.tsa.ar_model import AR
from sklearn.metrics import mean_squared_error
from matplotlib.pylab import rcParams
from shapely.geometry import Point
import geopandas as gpd
import numpy as np
import pandas as pd
from functools import reduce # Python3 this helps to make extract 1D
from itertools import groupby

from matplotlib.pylab import rcParams
from shapely.geometry import Point
rcParams['figure.figsize'] = 25, 6
import geopandas as gpd
import numpy as np
import pandas as pd
import matplotlib.pyplot as plt


# ## calling radon

# In[41]:


r=pd.read_excel(r"C:\Users\MM\Desktop\peoples work\mustafa khairi\Mustafa Radon Data final thesis Erzincan.xlsx")


# In[42]:


r=pd.DataFrame({"Radon":r["Radon"].values},index=r["Date"])


# In[43]:


#plt.plot(r.Radon.values)#[1000:1500])
#plt.tight_layout()


# # Calling earthquake data

# In[44]:


df=pd.read_excel(r"C:\Users\MM\Desktop\peoples work\mustafa khairi\mustafa Earthquakes excel.xlsx")
df["datetime"] =pd.to_datetime( df["Date"].astype(str)+ " " + df["Origin Time"].astype(str))#concatenating date and time columns and converting them to date time format(from object to date time)
df.index=df.datetime


# ## Importing pressure and converting to datetime

# In[45]:


pr=pd.read_excel(r"C:\Users\MM\Desktop\peoples work\mustafa khairi\mustafa pressure excel.xlsx")
pr["datetime"] =pd.to_datetime( pr["year"].astype(str)+"-"+pr["month"].astype(str) +"-" + pr["day"].astype(str))#concatenating date and time columns and converting them to date time format(from object to date time)
pr.index=pr.datetime


# ## importing 5cm soil temperature and converting to date time

# In[46]:


t5=pd.read_excel(r"C:\Users\MM\Desktop\peoples work\mustafa khairi\mustafa 5cm soil temp excel.xlsx")
t5["datetime"] =pd.to_datetime( t5["year"].astype(str)+"-"+t5["month"].astype(str) +"-" + t5["day"].astype(str))#concatenating date and time columns and converting them to date time format(from object to date time)
t5.index=t5.datetime


# ## importing Atmospheric temperature and converting to date time

# In[47]:


ta=pd.read_excel(r"C:\Users\MM\Desktop\peoples work\mustafa khairi\mustafa atmospheric temp excel.xlsx")
ta["datetime"] =pd.to_datetime( ta["year"].astype(str)+"-"+ta["month"].astype(str) +"-" + ta["day"].astype(str))#concatenating date and time columns and converting them to date time format(from object to date time)
ta.index=ta.datetime


# In[ ]:





# In[48]:


ta=ta["2007-03-11 15:15:00":"2010-02-09 18:15:00"]

t5=t5["2007-03-11 15:15:00":"2010-02-09 18:15:00"]

pr=pr["2007-03-11 15:15:00":"2010-02-09 18:15:00"]


# # Plotting Radon and Earthquake

# In[49]:


import matplotlib
import matplotlib.pyplot as plt
import matplotlib.gridspec as gridspec
fig = plt.figure()#figsize=(25,25))#declaring the figure(kyuya ce ta hanani chanza sunan to figure1)
spec= gridspec.GridSpec(ncols=1, nrows=1, figure=fig)#specifying three columns and two rows 
ax1= fig.add_subplot(spec[0, :])#first long plot

#ax2= fig.add_subplot(spec[1, :])#second row first plot
#ax3 = ax2.twinx()  # instantiate a second axes that shares the same x-axis xa1
ax4 = ax1.twinx()  # instantiate a second axes that shares the same x-axis xa1
#ax5= fig.add_subplot(spec[2, :])#second row first plot
#ax6 = ax5.twinx()  # instantiate a second axes that shares the same x-axis xa1
#ax7= fig.add_subplot(spec[3, :])#second row first plot
#ax8 = ax7.twinx()  # instantiate a second axes that shares the same x-axis xa1
#scale=300 *EE.xM#scale size of the earthquake bubble in plot 
df=df[df.xM>3.7]
size=len(df.index)
xs = df.index#the x values
ys = df.xM#the y axis
#................................................plotting radon
color = '#461a9b'#setting axis color

ax1.plot(r.Radon,color=color,label="Radon")
ax1.set_ylabel("Radon (Bqm$^{-3}$)", color=color,fontsize=30)  # we already handled the x-label with ax1
ax1.tick_params(axis='y', labelcolor=color,labelsize=20)#tick lables

ax1.set_title('Radon and Earthquake',fontsize=35)#title
ax1.set(xlim=(r.index[0], r.index[-1]))#setting the x axis limits
ax1.tick_params(axis='x',labelsize=0)#tick lables
#....................................................
#...........................................plotting earthquakes...............
size=len(df.index)
xs = df.index#the x values
ys = df.xM#the y axis
ax4.bar(xs,ys,width=7,color="#000080",alpha=0.3)#plotting earthquake
ax4.set_ylabel("Earthquakes", fontsize=30)#for the veloocity y-label
ax4.tick_params(axis='y',labelsize=20)#tick lables

#ax4.set_xlabel("Dates", fontsize=30)
for x, y, label in zip(df.index, df.xM, df.xM):
    ax4.annotate(label, xy=(x, y), xytext=(-13,0), textcoords="offset points",fontsize=15,weight='bold')
    ax4.set(ylim=(0, int(max(df.xM))+1))#I setting adjust to  y axis
    #ax2.set(xlim=(radon.index[0], radon.index[-1]))#setting the x axis limits

ax1.tick_params(axis='x',labelsize=15)#tick lables
ax1.set_xlabel("Dates", fontsize=25)